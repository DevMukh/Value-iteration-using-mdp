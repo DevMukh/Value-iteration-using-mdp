{
 "cells": [
  {
   "cell_type": "code",
   "execution_count": 20,
   "id": "033399e0",
   "metadata": {},
   "outputs": [],
   "source": [
    "states = [\"Rainy\", \"Cloudy\", \"Sunny\"]"
   ]
  },
  {
   "cell_type": "code",
   "execution_count": 21,
   "id": "09384dec",
   "metadata": {},
   "outputs": [],
   "source": [
    "actions = [\"Umberalla\", \"No Umberalla\"]\n",
    "rewards = {\n",
    "    \"Rainy\": {\"Umberalla\": -1, \"No Umberalla\": -5},\n",
    "    \"Cloudy\": {\"Umberalla\": -1, \"No Umberalla\": -1},\n",
    "    \"Sunny\": {\"Umberalla\": -5, \"No Umberalla\": -1}\n",
    "}"
   ]
  },
  {
   "cell_type": "code",
   "execution_count": 22,
   "id": "78065a0d",
   "metadata": {},
   "outputs": [],
   "source": [
    "transitions = {\n",
    "    \"Rainy\": {\n",
    "        \"Umberalla\": {\"Rainy\": 0.7, \"Cloudy\": 0.3, \"Sunny\": 0},\n",
    "        \"No Umberalla\": {\"Rainy\": 0.3, \"Cloudy\": 0.4, \"Sunny\": 0.3}\n",
    "    },\n",
    "    \"Cloudy\": {\n",
    "        \"Umberalla\": {\"Rainy\": 0.4, \"Cloudy\": 0.6, \"Sunny\": 0},\n",
    "        \"No Umberalla\": {\"Rainy\": 0, \"Cloudy\": 0.7, \"Sunny\": 0.3}\n",
    "    },\n",
    "    \"Sunny\": {\n",
    "        \"Umberalla\": {\"Rainy\": 0, \"Cloudy\": 0, \"Sunny\": 1},\n",
    "        \"No Umberalla\": {\"Rainy\": 0, \"Cloudy\": 0.4, \"Sunny\": 0.6}\n",
    "    },\n",
    "}\n",
    "discount_factor=0.9"
   ]
  },
  {
   "cell_type": "code",
   "execution_count": 23,
   "id": "5a6a12d5",
   "metadata": {},
   "outputs": [
    {
     "name": "stdout",
     "output_type": "stream",
     "text": [
      "{'Rainy': -9.991404955442833, 'Cloudy': -9.991404955442835, 'Sunny': -9.991404955442835}\n"
     ]
    }
   ],
   "source": [
    "def value_iteration():\n",
    "    V = {s: 0 for s in states}\n",
    "    while True:\n",
    "        new_V = {}\n",
    "\n",
    "        for s in states:\n",
    "            values = []\n",
    "            for a in actions:\n",
    "                action_value = rewards[s][a]\n",
    "                for s2 in states:\n",
    "                    action_value += discount_factor * transitions[s][a][s2] * V[s2]\n",
    "                values.append(action_value)\n",
    "\n",
    "            new_V[s] = max(values)\n",
    "\n",
    "        # Convergence\n",
    "        if all(abs(V[s] - new_V[s]) < 0.001 for s in states):\n",
    "            return new_V\n",
    "\n",
    "        V = new_V\n",
    "\n",
    "V = value_iteration()\n",
    "print(V)"
   ]
  },
  {
   "cell_type": "code",
   "execution_count": 24,
   "id": "7b29194a",
   "metadata": {},
   "outputs": [
    {
     "name": "stdout",
     "output_type": "stream",
     "text": [
      "optimal poliicy value:\n",
      "{'Rainy': 'Umberalla', 'Cloudy': 'Umberalla', 'Sunny': 'No Umberalla'}\n"
     ]
    }
   ],
   "source": [
    "import numpy as np\n",
    "policy={}\n",
    "for s in states:\n",
    "    values=[]\n",
    "    for a in actions:\n",
    "        action_value=rewards[s][a]\n",
    "        for s2 in states:\n",
    "             action_value += discount_factor * transitions[s][a][s2] * V[s2]\n",
    "        values.append(action_value)\n",
    "        policy[s]=actions[np.argmax(values)]\n",
    "print(\"optimalpoliicy :\")\n",
    "print(policy,sep)"
   ]
  },
  {
   "cell_type": "code",
   "execution_count": null,
   "id": "5b4fc696",
   "metadata": {},
   "outputs": [],
   "source": []
  }
 ],
 "metadata": {
  "kernelspec": {
   "display_name": "Python 3 (ipykernel)",
   "language": "python",
   "name": "python3"
  },
  "language_info": {
   "codemirror_mode": {
    "name": "ipython",
    "version": 3
   },
   "file_extension": ".py",
   "mimetype": "text/x-python",
   "name": "python",
   "nbconvert_exporter": "python",
   "pygments_lexer": "ipython3",
   "version": "3.11.4"
  }
 },
 "nbformat": 4,
 "nbformat_minor": 5
}
