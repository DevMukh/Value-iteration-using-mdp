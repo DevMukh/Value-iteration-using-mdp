{
 "cells": [
  {
   "cell_type": "code",
   "execution_count": 149,
   "id": "2bb766ad",
   "metadata": {},
   "outputs": [
    {
     "data": {
      "text/plain": [
       "{0: 'burger', 1: 'pizza', 2: 'hotdog'}"
      ]
     },
     "execution_count": 149,
     "metadata": {},
     "output_type": "execute_result"
    }
   ],
   "source": [
    "state={\n",
    "    0:\"burger\",1:\"pizza\",2:\"hotdog\"\n",
    "}\n",
    "state"
   ]
  },
  {
   "cell_type": "code",
   "execution_count": 150,
   "id": "15dc5f03",
   "metadata": {},
   "outputs": [
    {
     "data": {
      "text/plain": [
       "array([[0.2, 0.6, 0.2],\n",
       "       [0.3, 0. , 0.7],\n",
       "       [0.5, 0. , 0.5]])"
      ]
     },
     "execution_count": 150,
     "metadata": {},
     "output_type": "execute_result"
    }
   ],
   "source": [
    "#tranisiton we defined\n",
    "import numpy as  np\n",
    "A=np.array([[0.2,0.6,0.2],[0.3,0,0.7],[0.5,0,0.5]])\n",
    "A"
   ]
  },
  {
   "cell_type": "code",
   "execution_count": 151,
   "id": "832d8a76",
   "metadata": {},
   "outputs": [
    {
     "name": "stdout",
     "output_type": "stream",
     "text": [
      "previcious_state: 1\n"
     ]
    }
   ],
   "source": [
    "#it will for 15 times\n",
    "n=15\n",
    "start_state=1\n",
    "previcious_state=start_state\n",
    "print(\"previcious_state:\",previcious_state)"
   ]
  },
  {
   "cell_type": "code",
   "execution_count": 152,
   "id": "8be419b9",
   "metadata": {},
   "outputs": [
    {
     "name": "stdout",
     "output_type": "stream",
     "text": [
      "  hotdog : 2 ----->   burger : 0 ----->   pizza : 1 ----->   hotdog : 2 ----->   hotdog : 2 ----->   hotdog : 2 ----->   burger : 0 ----->   pizza : 1 ----->   burger : 0 ----->   burger : 0 ----->   pizza : 1 ----->   hotdog : 2 ----->   hotdog : 2 ----->   hotdog : 2 -----> stop\n"
     ]
    }
   ],
   "source": [
    "while n-1:\n",
    "    if start_state not in state:\n",
    "        print(\"end start state not present:\")\n",
    "        break\n",
    "    else:\n",
    "        current_state=np.random.choice([0,1,2],p=A[previcious_state])\n",
    "        print(\" \",state[current_state],\":\",(current_state),\"----->\",end=\" \")\n",
    "        previcious_state=current_state\n",
    "        n-=1\n",
    "print(\"stop\")"
   ]
  },
  {
   "cell_type": "code",
   "execution_count": 154,
   "id": "980fbf4f",
   "metadata": {},
   "outputs": [
    {
     "name": "stdout",
     "output_type": "stream",
     "text": [
      "previcious_state: 0\n",
      "total steps pi =: [0.35443 0.21207 0.43351]\n"
     ]
    }
   ],
   "source": [
    "#import numpy as  np\n",
    "#Monte Carlo Approch\n",
    "steps=10**5\n",
    "start_state=0\n",
    "pi=np.array([0,0,0])\n",
    "pi[start_state] = 1\n",
    "previcious_state=start_state\n",
    "print(\"previcious_state:\",previcious_state)\n",
    "i=0\n",
    "while i<steps:\n",
    "    current_state = np.random.choice([0, 1, 2], p=A[previcious_state])\n",
    "    pi[current_state]+=1\n",
    "    previcious_state=current_state\n",
    "    i+=1\n",
    "print(\"total steps pi =:\",pi/steps)"
   ]
  },
  {
   "cell_type": "code",
   "execution_count": null,
   "id": "8576279f",
   "metadata": {},
   "outputs": [],
   "source": []
  },
  {
   "cell_type": "code",
   "execution_count": null,
   "id": "3125ff06",
   "metadata": {},
   "outputs": [],
   "source": []
  }
 ],
 "metadata": {
  "kernelspec": {
   "display_name": "Python 3 (ipykernel)",
   "language": "python",
   "name": "python3"
  },
  "language_info": {
   "codemirror_mode": {
    "name": "ipython",
    "version": 3
   },
   "file_extension": ".py",
   "mimetype": "text/x-python",
   "name": "python",
   "nbconvert_exporter": "python",
   "pygments_lexer": "ipython3",
   "version": "3.11.4"
  }
 },
 "nbformat": 4,
 "nbformat_minor": 5
}
